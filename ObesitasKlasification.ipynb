{
 "cells": [
  {
   "cell_type": "code",
   "execution_count": 1,
   "id": "9d5964cb-6470-4dcb-8880-49f3914436c3",
   "metadata": {},
   "outputs": [],
   "source": [
    "import pandas as pd\n",
    "import numpy as np\n",
    "import matplotlib.pyplot as plt\n",
    "import seaborn as sns"
   ]
  },
  {
   "cell_type": "code",
   "execution_count": 2,
   "id": "b7ee3857-c50c-42b7-82bf-c94ed3a68eba",
   "metadata": {},
   "outputs": [
    {
     "data": {
      "text/html": [
       "<div>\n",
       "<style scoped>\n",
       "    .dataframe tbody tr th:only-of-type {\n",
       "        vertical-align: middle;\n",
       "    }\n",
       "\n",
       "    .dataframe tbody tr th {\n",
       "        vertical-align: top;\n",
       "    }\n",
       "\n",
       "    .dataframe thead th {\n",
       "        text-align: right;\n",
       "    }\n",
       "</style>\n",
       "<table border=\"1\" class=\"dataframe\">\n",
       "  <thead>\n",
       "    <tr style=\"text-align: right;\">\n",
       "      <th></th>\n",
       "      <th>Age</th>\n",
       "      <th>Gender</th>\n",
       "      <th>Height</th>\n",
       "      <th>Weight</th>\n",
       "      <th>CALC</th>\n",
       "      <th>FAVC</th>\n",
       "      <th>FCVC</th>\n",
       "      <th>NCP</th>\n",
       "      <th>SCC</th>\n",
       "      <th>SMOKE</th>\n",
       "      <th>CH2O</th>\n",
       "      <th>family_history_with_overweight</th>\n",
       "      <th>FAF</th>\n",
       "      <th>TUE</th>\n",
       "      <th>CAEC</th>\n",
       "      <th>MTRANS</th>\n",
       "      <th>NObeyesdad</th>\n",
       "    </tr>\n",
       "  </thead>\n",
       "  <tbody>\n",
       "    <tr>\n",
       "      <th>0</th>\n",
       "      <td>21</td>\n",
       "      <td>Female</td>\n",
       "      <td>1.62</td>\n",
       "      <td>64</td>\n",
       "      <td>no</td>\n",
       "      <td>no</td>\n",
       "      <td>2</td>\n",
       "      <td>3</td>\n",
       "      <td>no</td>\n",
       "      <td>no</td>\n",
       "      <td>2</td>\n",
       "      <td>yes</td>\n",
       "      <td>0</td>\n",
       "      <td>1</td>\n",
       "      <td>Sometimes</td>\n",
       "      <td>Public_Transportation</td>\n",
       "      <td>Normal_Weight</td>\n",
       "    </tr>\n",
       "    <tr>\n",
       "      <th>1</th>\n",
       "      <td>21</td>\n",
       "      <td>Female</td>\n",
       "      <td>1.52</td>\n",
       "      <td>56</td>\n",
       "      <td>Sometimes</td>\n",
       "      <td>no</td>\n",
       "      <td>3</td>\n",
       "      <td>3</td>\n",
       "      <td>yes</td>\n",
       "      <td>yes</td>\n",
       "      <td>3</td>\n",
       "      <td>yes</td>\n",
       "      <td>3</td>\n",
       "      <td>0</td>\n",
       "      <td>Sometimes</td>\n",
       "      <td>Public_Transportation</td>\n",
       "      <td>Normal_Weight</td>\n",
       "    </tr>\n",
       "    <tr>\n",
       "      <th>2</th>\n",
       "      <td>23</td>\n",
       "      <td>Male</td>\n",
       "      <td>1.8</td>\n",
       "      <td>77</td>\n",
       "      <td>Frequently</td>\n",
       "      <td>no</td>\n",
       "      <td>2</td>\n",
       "      <td>3</td>\n",
       "      <td>no</td>\n",
       "      <td>no</td>\n",
       "      <td>2</td>\n",
       "      <td>yes</td>\n",
       "      <td>2</td>\n",
       "      <td>1</td>\n",
       "      <td>Sometimes</td>\n",
       "      <td>Public_Transportation</td>\n",
       "      <td>Normal_Weight</td>\n",
       "    </tr>\n",
       "    <tr>\n",
       "      <th>3</th>\n",
       "      <td>27</td>\n",
       "      <td>Male</td>\n",
       "      <td>1.8</td>\n",
       "      <td>87</td>\n",
       "      <td>Frequently</td>\n",
       "      <td>no</td>\n",
       "      <td>3</td>\n",
       "      <td>3</td>\n",
       "      <td>no</td>\n",
       "      <td>no</td>\n",
       "      <td>2</td>\n",
       "      <td>no</td>\n",
       "      <td>2</td>\n",
       "      <td>0</td>\n",
       "      <td>Sometimes</td>\n",
       "      <td>Walking</td>\n",
       "      <td>Overweight_Level_I</td>\n",
       "    </tr>\n",
       "    <tr>\n",
       "      <th>4</th>\n",
       "      <td>22</td>\n",
       "      <td>Male</td>\n",
       "      <td>1.78</td>\n",
       "      <td>89.8</td>\n",
       "      <td>Sometimes</td>\n",
       "      <td>no</td>\n",
       "      <td>2</td>\n",
       "      <td>1</td>\n",
       "      <td>no</td>\n",
       "      <td>no</td>\n",
       "      <td>2</td>\n",
       "      <td>no</td>\n",
       "      <td>0</td>\n",
       "      <td>0</td>\n",
       "      <td>Sometimes</td>\n",
       "      <td>Public_Transportation</td>\n",
       "      <td>Overweight_Level_II</td>\n",
       "    </tr>\n",
       "  </tbody>\n",
       "</table>\n",
       "</div>"
      ],
      "text/plain": [
       "  Age  Gender Height Weight        CALC FAVC FCVC NCP  SCC SMOKE CH2O  \\\n",
       "0  21  Female   1.62     64          no   no    2   3   no    no    2   \n",
       "1  21  Female   1.52     56   Sometimes   no    3   3  yes   yes    3   \n",
       "2  23    Male    1.8     77  Frequently   no    2   3   no    no    2   \n",
       "3  27    Male    1.8     87  Frequently   no    3   3   no    no    2   \n",
       "4  22    Male   1.78   89.8   Sometimes   no    2   1   no    no    2   \n",
       "\n",
       "  family_history_with_overweight FAF TUE       CAEC                 MTRANS  \\\n",
       "0                            yes   0   1  Sometimes  Public_Transportation   \n",
       "1                            yes   3   0  Sometimes  Public_Transportation   \n",
       "2                            yes   2   1  Sometimes  Public_Transportation   \n",
       "3                             no   2   0  Sometimes                Walking   \n",
       "4                             no   0   0  Sometimes  Public_Transportation   \n",
       "\n",
       "            NObeyesdad  \n",
       "0        Normal_Weight  \n",
       "1        Normal_Weight  \n",
       "2        Normal_Weight  \n",
       "3   Overweight_Level_I  \n",
       "4  Overweight_Level_II  "
      ]
     },
     "execution_count": 2,
     "metadata": {},
     "output_type": "execute_result"
    }
   ],
   "source": [
    "df = pd.read_csv(\"ObesityDataSet.csv\")\n",
    "df.head()"
   ]
  },
  {
   "cell_type": "code",
   "execution_count": 3,
   "id": "bbf541ff-abe1-4173-9cd0-d091fce58323",
   "metadata": {},
   "outputs": [
    {
     "name": "stdout",
     "output_type": "stream",
     "text": [
      "<class 'pandas.core.frame.DataFrame'>\n",
      "RangeIndex: 2111 entries, 0 to 2110\n",
      "Data columns (total 17 columns):\n",
      " #   Column                          Non-Null Count  Dtype \n",
      "---  ------                          --------------  ----- \n",
      " 0   Age                             2097 non-null   object\n",
      " 1   Gender                          2102 non-null   object\n",
      " 2   Height                          2099 non-null   object\n",
      " 3   Weight                          2100 non-null   object\n",
      " 4   CALC                            2106 non-null   object\n",
      " 5   FAVC                            2100 non-null   object\n",
      " 6   FCVC                            2103 non-null   object\n",
      " 7   NCP                             2099 non-null   object\n",
      " 8   SCC                             2101 non-null   object\n",
      " 9   SMOKE                           2106 non-null   object\n",
      " 10  CH2O                            2105 non-null   object\n",
      " 11  family_history_with_overweight  2098 non-null   object\n",
      " 12  FAF                             2103 non-null   object\n",
      " 13  TUE                             2102 non-null   object\n",
      " 14  CAEC                            2100 non-null   object\n",
      " 15  MTRANS                          2105 non-null   object\n",
      " 16  NObeyesdad                      2111 non-null   object\n",
      "dtypes: object(17)\n",
      "memory usage: 280.5+ KB\n"
     ]
    }
   ],
   "source": [
    "df.info()"
   ]
  },
  {
   "cell_type": "code",
   "execution_count": 4,
   "id": "04080332-c9fd-42ae-91f2-c5a9512d551b",
   "metadata": {},
   "outputs": [
    {
     "data": {
      "text/html": [
       "<div>\n",
       "<style scoped>\n",
       "    .dataframe tbody tr th:only-of-type {\n",
       "        vertical-align: middle;\n",
       "    }\n",
       "\n",
       "    .dataframe tbody tr th {\n",
       "        vertical-align: top;\n",
       "    }\n",
       "\n",
       "    .dataframe thead th {\n",
       "        text-align: right;\n",
       "    }\n",
       "</style>\n",
       "<table border=\"1\" class=\"dataframe\">\n",
       "  <thead>\n",
       "    <tr style=\"text-align: right;\">\n",
       "      <th></th>\n",
       "      <th>Age</th>\n",
       "      <th>Gender</th>\n",
       "      <th>Height</th>\n",
       "      <th>Weight</th>\n",
       "      <th>CALC</th>\n",
       "      <th>FAVC</th>\n",
       "      <th>FCVC</th>\n",
       "      <th>NCP</th>\n",
       "      <th>SCC</th>\n",
       "      <th>SMOKE</th>\n",
       "      <th>CH2O</th>\n",
       "      <th>family_history_with_overweight</th>\n",
       "      <th>FAF</th>\n",
       "      <th>TUE</th>\n",
       "      <th>CAEC</th>\n",
       "      <th>MTRANS</th>\n",
       "      <th>NObeyesdad</th>\n",
       "    </tr>\n",
       "  </thead>\n",
       "  <tbody>\n",
       "    <tr>\n",
       "      <th>count</th>\n",
       "      <td>2097</td>\n",
       "      <td>2102</td>\n",
       "      <td>2099</td>\n",
       "      <td>2100</td>\n",
       "      <td>2106</td>\n",
       "      <td>2100</td>\n",
       "      <td>2103</td>\n",
       "      <td>2099</td>\n",
       "      <td>2101</td>\n",
       "      <td>2106</td>\n",
       "      <td>2105</td>\n",
       "      <td>2098</td>\n",
       "      <td>2103</td>\n",
       "      <td>2102</td>\n",
       "      <td>2100</td>\n",
       "      <td>2105</td>\n",
       "      <td>2111</td>\n",
       "    </tr>\n",
       "    <tr>\n",
       "      <th>unique</th>\n",
       "      <td>1394</td>\n",
       "      <td>3</td>\n",
       "      <td>1562</td>\n",
       "      <td>1518</td>\n",
       "      <td>5</td>\n",
       "      <td>3</td>\n",
       "      <td>808</td>\n",
       "      <td>637</td>\n",
       "      <td>3</td>\n",
       "      <td>3</td>\n",
       "      <td>1263</td>\n",
       "      <td>3</td>\n",
       "      <td>1186</td>\n",
       "      <td>1130</td>\n",
       "      <td>5</td>\n",
       "      <td>6</td>\n",
       "      <td>7</td>\n",
       "    </tr>\n",
       "    <tr>\n",
       "      <th>top</th>\n",
       "      <td>18</td>\n",
       "      <td>Male</td>\n",
       "      <td>1.7</td>\n",
       "      <td>80</td>\n",
       "      <td>Sometimes</td>\n",
       "      <td>yes</td>\n",
       "      <td>3</td>\n",
       "      <td>3</td>\n",
       "      <td>no</td>\n",
       "      <td>no</td>\n",
       "      <td>2</td>\n",
       "      <td>yes</td>\n",
       "      <td>0</td>\n",
       "      <td>0</td>\n",
       "      <td>Sometimes</td>\n",
       "      <td>Public_Transportation</td>\n",
       "      <td>Obesity_Type_I</td>\n",
       "    </tr>\n",
       "    <tr>\n",
       "      <th>freq</th>\n",
       "      <td>124</td>\n",
       "      <td>1056</td>\n",
       "      <td>58</td>\n",
       "      <td>58</td>\n",
       "      <td>1386</td>\n",
       "      <td>1844</td>\n",
       "      <td>647</td>\n",
       "      <td>1183</td>\n",
       "      <td>1997</td>\n",
       "      <td>2054</td>\n",
       "      <td>441</td>\n",
       "      <td>1705</td>\n",
       "      <td>404</td>\n",
       "      <td>552</td>\n",
       "      <td>1747</td>\n",
       "      <td>1572</td>\n",
       "      <td>351</td>\n",
       "    </tr>\n",
       "  </tbody>\n",
       "</table>\n",
       "</div>"
      ],
      "text/plain": [
       "         Age Gender Height Weight       CALC  FAVC  FCVC   NCP   SCC SMOKE  \\\n",
       "count   2097   2102   2099   2100       2106  2100  2103  2099  2101  2106   \n",
       "unique  1394      3   1562   1518          5     3   808   637     3     3   \n",
       "top       18   Male    1.7     80  Sometimes   yes     3     3    no    no   \n",
       "freq     124   1056     58     58       1386  1844   647  1183  1997  2054   \n",
       "\n",
       "        CH2O family_history_with_overweight   FAF   TUE       CAEC  \\\n",
       "count   2105                           2098  2103  2102       2100   \n",
       "unique  1263                              3  1186  1130          5   \n",
       "top        2                            yes     0     0  Sometimes   \n",
       "freq     441                           1705   404   552       1747   \n",
       "\n",
       "                       MTRANS      NObeyesdad  \n",
       "count                    2105            2111  \n",
       "unique                      6               7  \n",
       "top     Public_Transportation  Obesity_Type_I  \n",
       "freq                     1572             351  "
      ]
     },
     "execution_count": 4,
     "metadata": {},
     "output_type": "execute_result"
    }
   ],
   "source": [
    "df.describe()"
   ]
  },
  {
   "cell_type": "code",
   "execution_count": 5,
   "id": "9ee10c6d-6c14-43f7-9175-62dff0264e00",
   "metadata": {},
   "outputs": [
    {
     "data": {
      "text/plain": [
       "Age                               14\n",
       "Gender                             9\n",
       "Height                            12\n",
       "Weight                            11\n",
       "CALC                               5\n",
       "FAVC                              11\n",
       "FCVC                               8\n",
       "NCP                               12\n",
       "SCC                               10\n",
       "SMOKE                              5\n",
       "CH2O                               6\n",
       "family_history_with_overweight    13\n",
       "FAF                                8\n",
       "TUE                                9\n",
       "CAEC                              11\n",
       "MTRANS                             6\n",
       "NObeyesdad                         0\n",
       "dtype: int64"
      ]
     },
     "execution_count": 5,
     "metadata": {},
     "output_type": "execute_result"
    }
   ],
   "source": [
    "df.isnull().sum()"
   ]
  },
  {
   "cell_type": "code",
   "execution_count": 6,
   "id": "9bcf06e1-1bb4-440f-8114-d875f7a2c176",
   "metadata": {},
   "outputs": [
    {
     "data": {
      "text/plain": [
       "Age                               1394\n",
       "Gender                               3\n",
       "Height                            1562\n",
       "Weight                            1518\n",
       "CALC                                 5\n",
       "FAVC                                 3\n",
       "FCVC                               808\n",
       "NCP                                637\n",
       "SCC                                  3\n",
       "SMOKE                                3\n",
       "CH2O                              1263\n",
       "family_history_with_overweight       3\n",
       "FAF                               1186\n",
       "TUE                               1130\n",
       "CAEC                                 5\n",
       "MTRANS                               6\n",
       "NObeyesdad                           7\n",
       "dtype: int64"
      ]
     },
     "execution_count": 6,
     "metadata": {},
     "output_type": "execute_result"
    }
   ],
   "source": [
    "df.nunique()"
   ]
  },
  {
   "cell_type": "code",
   "execution_count": 17,
   "id": "3bb524a5-25a3-45e3-9704-33e46c2b7935",
   "metadata": {},
   "outputs": [
    {
     "name": "stdout",
     "output_type": "stream",
     "text": [
      "18\n"
     ]
    }
   ],
   "source": [
    "print(df.duplicated().sum())"
   ]
  },
  {
   "cell_type": "code",
   "execution_count": 8,
   "id": "ea8e0c4c-8d53-4f5b-9fc9-5620593ccf7f",
   "metadata": {},
   "outputs": [
    {
     "name": "stdout",
     "output_type": "stream",
     "text": [
      "<class 'pandas.core.frame.DataFrame'>\n",
      "RangeIndex: 2111 entries, 0 to 2110\n",
      "Data columns (total 17 columns):\n",
      " #   Column                          Non-Null Count  Dtype  \n",
      "---  ------                          --------------  -----  \n",
      " 0   Age                             2089 non-null   float64\n",
      " 1   Gender                          2102 non-null   object \n",
      " 2   Height                          2089 non-null   float64\n",
      " 3   Weight                          2092 non-null   float64\n",
      " 4   CALC                            2106 non-null   object \n",
      " 5   FAVC                            2100 non-null   object \n",
      " 6   FCVC                            2103 non-null   object \n",
      " 7   NCP                             2099 non-null   object \n",
      " 8   SCC                             2101 non-null   object \n",
      " 9   SMOKE                           2106 non-null   object \n",
      " 10  CH2O                            2105 non-null   object \n",
      " 11  family_history_with_overweight  2098 non-null   object \n",
      " 12  FAF                             2103 non-null   object \n",
      " 13  TUE                             2102 non-null   object \n",
      " 14  CAEC                            2100 non-null   object \n",
      " 15  MTRANS                          2105 non-null   object \n",
      " 16  NObeyesdad                      2111 non-null   object \n",
      "dtypes: float64(3), object(14)\n",
      "memory usage: 280.5+ KB\n"
     ]
    }
   ],
   "source": [
    "df['Age'] = pd.to_numeric(df['Age'], errors='coerce')\n",
    "df['Height'] = pd.to_numeric(df['Height'], errors='coerce')\n",
    "df['Weight'] = pd.to_numeric(df['Weight'], errors='coerce')\n",
    "df.info()"
   ]
  },
  {
   "cell_type": "code",
   "execution_count": 9,
   "id": "5434fec9-bf7f-4b17-986b-265874c9ba44",
   "metadata": {},
   "outputs": [
    {
     "name": "stdout",
     "output_type": "stream",
     "text": [
      "               Age       Height       Weight\n",
      "count  2089.000000  2089.000000  2092.000000\n",
      "mean     24.717928     1.706623    88.608184\n",
      "std       8.391323     0.117700    36.154617\n",
      "min      14.000000     1.450000    39.000000\n",
      "25%      19.955257     1.630000    66.000000\n",
      "50%      22.814657     1.701284    83.000000\n",
      "75%      26.000000     1.770000   108.055736\n",
      "max     106.441252     2.853986   441.131078\n"
     ]
    }
   ],
   "source": [
    "# Statistik deskriptif untuk kolom numerik\n",
    "print(df[['Age', 'Height', 'Weight']].describe())"
   ]
  },
  {
   "cell_type": "code",
   "execution_count": 14,
   "id": "a4e3343e-d1fd-4a83-808a-6b4dd8f46a55",
   "metadata": {},
   "outputs": [
    {
     "data": {
      "image/png": "[encoded data removed]",
      "text/plain": [
       "<Figure size 1200x600 with 4 Axes>"
      ]
     },
     "metadata": {},
     "output_type": "display_data"
    }
   ],
   "source": [
    "# Visualisasi distribusi fitur numerik\n",
    "df[['Age', 'Height', 'Weight']].hist(bins=20, figsize=(12, 6))\n",
    "plt.tight_layout()\n",
    "plt.show()"
   ]
  },
  {
   "cell_type": "code",
   "execution_count": 13,
   "id": "750bdf65-fb55-45c5-8c94-1efce59db8cb",
   "metadata": {},
   "outputs": [
    {
     "data": {
      "image/png": "[encoded data removed]",
      "text/plain": [
       "<Figure size 1200x600 with 1 Axes>"
      ]
     },
     "metadata": {},
     "output_type": "display_data"
    }
   ],
   "source": [
    "# Visualisasi boxplot untuk fitur numerik untuk deteksi outlier\n",
    "plt.figure(figsize=(12, 6))\n",
    "sns.boxplot(data=df[['Age', 'Height', 'Weight']])\n",
    "plt.show()"
   ]
  },
  {
   "cell_type": "code",
   "execution_count": 15,
   "id": "352900b7-8918-427f-98ba-1e30c61e3a05",
   "metadata": {},
   "outputs": [
    {
     "name": "stdout",
     "output_type": "stream",
     "text": [
      "\n",
      "Distribusi Kelas pada Kolom Target 'NObeyesdad':\n",
      "NObeyesdad\n",
      "Obesity_Type_I         351\n",
      "Obesity_Type_III       324\n",
      "Obesity_Type_II        297\n",
      "Overweight_Level_I     290\n",
      "Overweight_Level_II    290\n",
      "Normal_Weight          287\n",
      "Insufficient_Weight    272\n",
      "Name: count, dtype: int64\n"
     ]
    }
   ],
   "source": [
    "# Cek distribusi kelas pada kolom target\n",
    "print(\"\\nDistribusi Kelas pada Kolom Target 'NObeyesdad':\")\n",
    "print(df['NObeyesdad'].value_counts())"
   ]
  },
  {
   "cell_type": "code",
   "execution_count": 12,
   "id": "f496b20b-95da-4d63-8fab-4a5ff5426538",
   "metadata": {},
   "outputs": [
    {
     "data": {
      "image/png": "[encoded data removed]",
      "text/plain": [
       "<Figure size 640x480 with 2 Axes>"
      ]
     },
     "metadata": {},
     "output_type": "display_data"
    }
   ],
   "source": [
    "# Korelasi antar kolom numerik\n",
    "correlation_matrix = df[['Age', 'Height', 'Weight']].corr()\n",
    "\n",
    "# Visualisasi korelasi dengan heatmap\n",
    "sns.heatmap(correlation_matrix, annot=True, cmap='coolwarm', fmt='.2f')\n",
    "plt.title('Correlation Matrix')\n",
    "plt.show()"
   ]
  },
  {
   "cell_type": "code",
   "execution_count": null,
   "id": "eb48cabe-08ff-4a8f-b93d-27aa5e4d61ba",
   "metadata": {},
   "outputs": [],
   "source": []
  }
 ],
 "metadata": {
  "kernelspec": {
   "display_name": "test_venv",
   "language": "python",
   "name": "venv"
  },
  "language_info": {
   "codemirror_mode": {
    "name": "ipython",
    "version": 3
   },
   "file_extension": ".py",
   "mimetype": "text/x-python",
   "name": "python",
   "nbconvert_exporter": "python",
   "pygments_lexer": "ipython3",
   "version": "3.11.9"
  }
 },
 "nbformat": 4,
 "nbformat_minor": 5
}
